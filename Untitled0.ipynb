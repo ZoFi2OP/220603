{
  "nbformat": 4,
  "nbformat_minor": 0,
  "metadata": {
    "colab": {
      "name": "Untitled0.ipynb",
      "provenance": [],
      "authorship_tag": "ABX9TyOn82VdcZX0QxBMbMs0Z+bY",
      "include_colab_link": true
    },
    "kernelspec": {
      "name": "python3",
      "display_name": "Python 3"
    },
    "language_info": {
      "name": "python"
    }
  },
  "cells": [
    {
      "cell_type": "markdown",
      "metadata": {
        "id": "view-in-github",
        "colab_type": "text"
      },
      "source": [
        "<a href=\"https://colab.research.google.com/github/ZoFi2OP/220603/blob/main/Untitled0.ipynb\" target=\"_parent\"><img src=\"https://colab.research.google.com/assets/colab-badge.svg\" alt=\"Open In Colab\"/></a>"
      ]
    },
    {
      "cell_type": "code",
      "source": [
        "print(\"3개의 정수값을 입력하시오.\")\n",
        "lnt1 = int(input(\"첫번째 값을 입력하시오.: \"))\n",
        "lnt2 = int(input(\"두번째 값을 입력하시오.: \"))\n",
        "lnt3 = int(input(\"셋번째 값을 입력하시오.: \"))\n",
        "print(lnt1, lnt2, lnt3)\n",
        "sum = lnt1 + lnt2 + lnt3\n",
        "print(sum)"
      ],
      "metadata": {
        "id": "e4CUvPkqPu9T"
      },
      "execution_count": null,
      "outputs": []
    },
    {
      "cell_type": "code",
      "source": [
        "total = 0\n",
        "counter = 1\n",
        "while counter <= 10:\n",
        "  grade = int(input(\"점수를 입력하시오.: \"))\n",
        "  total = grade + total\n",
        "  counter = counter + 1\n",
        "aver = total / 10\n",
        "print(aver)"
      ],
      "metadata": {
        "id": "snRLwjTtP4JK"
      },
      "execution_count": null,
      "outputs": []
    },
    {
      "cell_type": "code",
      "source": [
        "pay_rate = int(input(\"시급을 입력하시오. 2022년 6월 기준 9160원: \"))\n",
        "hour_work = int(input(\"일한 시간을 입력하시오.: \"))\n",
        "mon_pay = pay_rate * hour_work\n",
        "print(mon_pay)"
      ],
      "metadata": {
        "id": "lgZ7TjptP7uR"
      },
      "execution_count": null,
      "outputs": []
    }
  ]
}