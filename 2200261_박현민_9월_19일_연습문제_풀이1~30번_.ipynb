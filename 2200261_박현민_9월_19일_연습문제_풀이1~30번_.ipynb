{
  "nbformat": 4,
  "nbformat_minor": 0,
  "metadata": {
    "colab": {
      "provenance": [],
      "collapsed_sections": [],
      "toc_visible": true,
      "authorship_tag": "ABX9TyOedtpqRyWZBC7u52hZYXwR",
      "include_colab_link": true
    },
    "kernelspec": {
      "name": "python3",
      "display_name": "Python 3"
    },
    "language_info": {
      "name": "python"
    }
  },
  "cells": [
    {
      "cell_type": "markdown",
      "metadata": {
        "id": "view-in-github",
        "colab_type": "text"
      },
      "source": [
        "<a href=\"https://colab.research.google.com/github/ZoFi2OP/220603/blob/main/2200261_%EB%B0%95%ED%98%84%EB%AF%BC_9%EC%9B%94_19%EC%9D%BC_%EC%97%B0%EC%8A%B5%EB%AC%B8%EC%A0%9C_%ED%92%80%EC%9D%B41~30%EB%B2%88_.ipynb\" target=\"_parent\"><img src=\"https://colab.research.google.com/assets/colab-badge.svg\" alt=\"Open In Colab\"/></a>"
      ]
    },
    {
      "cell_type": "markdown",
      "source": [
        "연습문제 1번\n"
      ],
      "metadata": {
        "id": "Gqf6Y94N2i-b"
      }
    },
    {
      "cell_type": "code",
      "source": [
        "print(\"Twinkle, twinkle, little star, \\n\\tHow I wonder what you are! \\n\\t\\tUp above the world so high, \\n\\t\\tLike a diamond in the sky. \\nTwinkle, twinkle, little star, \\n\\tHow I wonder what you are!\")\n",
        "\n"
      ],
      "metadata": {
        "colab": {
          "base_uri": "https://localhost:8080/"
        },
        "id": "0y5CUi2WrTmx",
        "outputId": "5b4419f0-6612-4b75-c204-25bcd6d0ef9c"
      },
      "execution_count": null,
      "outputs": [
        {
          "output_type": "stream",
          "name": "stdout",
          "text": [
            "Twinkle, twinkle, little star, \n",
            "\tHow I wonder what you are! \n",
            "\t\tUp above the world so high, \n",
            "\t\tLike a diamond in the sky. \n",
            "Twinkle, twinkle, little star, \n",
            "\tHow I wonder what you are!\n"
          ]
        }
      ]
    },
    {
      "cell_type": "markdown",
      "source": [
        "연습문제 2번"
      ],
      "metadata": {
        "id": "NODQiNFJ2mDY"
      }
    },
    {
      "cell_type": "code",
      "source": [
        "import sys\n",
        "print(\"Python version\")\n",
        "print (sys.version)\n",
        "print(\"Version info.\")\n",
        "print (sys.version_info)"
      ],
      "metadata": {
        "colab": {
          "base_uri": "https://localhost:8080/"
        },
        "id": "jbq8V9C2r6yC",
        "outputId": "5b497d4f-e2bc-4a58-ff9c-a9641ebe4131"
      },
      "execution_count": null,
      "outputs": [
        {
          "output_type": "stream",
          "name": "stdout",
          "text": [
            "Python version\n",
            "3.7.14 (default, Sep  8 2022, 00:06:44) \n",
            "[GCC 7.5.0]\n",
            "Version info.\n",
            "sys.version_info(major=3, minor=7, micro=14, releaselevel='final', serial=0)\n"
          ]
        }
      ]
    },
    {
      "cell_type": "markdown",
      "source": [
        "연습문제 3번 "
      ],
      "metadata": {
        "id": "2ciDY6xj2qvY"
      }
    },
    {
      "cell_type": "code",
      "source": [
        "import datetime\n",
        "now = datetime.datetime.now()\n",
        "print (\"Current date and time : \")\n",
        "print (now.strftime(\"%Y-%m-%d %H:%M:%S\"))"
      ],
      "metadata": {
        "colab": {
          "base_uri": "https://localhost:8080/"
        },
        "id": "b5M1aWKBsEkp",
        "outputId": "0f3d9c24-e8d8-4c89-cf3d-1790fe62bbb7"
      },
      "execution_count": null,
      "outputs": [
        {
          "output_type": "stream",
          "name": "stdout",
          "text": [
            "Current date and time : \n",
            "2022-09-19 07:40:35\n"
          ]
        }
      ]
    },
    {
      "cell_type": "markdown",
      "source": [
        "연습문제 4번"
      ],
      "metadata": {
        "id": "4ZtLDOz22sTA"
      }
    },
    {
      "cell_type": "code",
      "source": [
        "from math import pi\n",
        "r = float(input (\"Input the radius of the circle : \"))\n",
        "print (\"The area of the circle with radius \" + str(r) + \" is: \" + str(pi * r**2))"
      ],
      "metadata": {
        "colab": {
          "base_uri": "https://localhost:8080/"
        },
        "id": "DzW45zW0sStZ",
        "outputId": "a690bfb8-a4e5-4108-f9fc-d857d9aa66aa"
      },
      "execution_count": null,
      "outputs": [
        {
          "output_type": "stream",
          "name": "stdout",
          "text": [
            "Input the radius of the circle : 3.2\n",
            "The area of the circle with radius 3.2 is: 32.169908772759484\n"
          ]
        }
      ]
    },
    {
      "cell_type": "markdown",
      "source": [
        "연습문제 5번"
      ],
      "metadata": {
        "id": "jq4qCVR_2tzo"
      }
    },
    {
      "cell_type": "code",
      "source": [
        "fname = input(\"Input your First Name : \")\n",
        "lname = input(\"Input your Last Name : \")\n",
        "print (\"Hello  \" + lname + \" \" + fname)"
      ],
      "metadata": {
        "colab": {
          "base_uri": "https://localhost:8080/"
        },
        "id": "cGhOd2wPtLeL",
        "outputId": "663a1919-b4e6-4842-fa8b-8eab62230791"
      },
      "execution_count": null,
      "outputs": [
        {
          "output_type": "stream",
          "name": "stdout",
          "text": [
            "Input your First Name : Park\n",
            "Input your Last Name : Hyun Min\n",
            "Hello  Hyun Min Park\n"
          ]
        }
      ]
    },
    {
      "cell_type": "markdown",
      "source": [
        "연습문제 6번"
      ],
      "metadata": {
        "id": "Ux34n-cI2vGR"
      }
    },
    {
      "cell_type": "code",
      "source": [
        "values = input(\"Input some comma seprated numbers : \")\n",
        "list = values.split(\",\")\n",
        "tuple = tuple(list)\n",
        "print('List : ',list)\n",
        "print('Tuple : ',tuple)"
      ],
      "metadata": {
        "colab": {
          "base_uri": "https://localhost:8080/"
        },
        "id": "MqgYPrc8tnwI",
        "outputId": "b5e2787c-1af5-4ec8-b440-1d3cc242d5fe"
      },
      "execution_count": null,
      "outputs": [
        {
          "output_type": "stream",
          "name": "stdout",
          "text": [
            "Input some comma seprated numbers : 3,5,7,23\n",
            "List :  ['3', '5', '7', '23']\n",
            "Tuple :  ('3', '5', '7', '23')\n"
          ]
        }
      ]
    },
    {
      "cell_type": "markdown",
      "source": [
        "연습문제 7번"
      ],
      "metadata": {
        "id": "lX2fE-zk2wfA"
      }
    },
    {
      "cell_type": "code",
      "source": [
        "filename = input(\"Input the Filename: \")\n",
        "f_extns = filename.split(\".\")\n",
        "print (\"The extension of the file is : \" + repr(f_extns[-1]))"
      ],
      "metadata": {
        "colab": {
          "base_uri": "https://localhost:8080/"
        },
        "id": "Y7HKYatOt5xY",
        "outputId": "800cd507-fc4f-487b-cbf4-737bfd9e53e5"
      },
      "execution_count": null,
      "outputs": [
        {
          "output_type": "stream",
          "name": "stdout",
          "text": [
            "Input the Filename: abc.java\n",
            "The extension of the file is : 'java'\n"
          ]
        }
      ]
    },
    {
      "cell_type": "markdown",
      "source": [
        "연습문제 8번"
      ],
      "metadata": {
        "id": "RKyuc4Kv2yCg"
      }
    },
    {
      "cell_type": "code",
      "source": [
        "color_list = [\"Red\",\"Green\",\"White\" ,\"Black\"]\n",
        "print( \"%s %s\"%(color_list[0],color_list[-1]))"
      ],
      "metadata": {
        "colab": {
          "base_uri": "https://localhost:8080/"
        },
        "id": "tu5owAKPugk3",
        "outputId": "df90960f-233f-41d5-fc6d-b58ebb626aeb"
      },
      "execution_count": null,
      "outputs": [
        {
          "output_type": "stream",
          "name": "stdout",
          "text": [
            "Red Black\n"
          ]
        }
      ]
    },
    {
      "cell_type": "markdown",
      "source": [
        "연습문제 9번"
      ],
      "metadata": {
        "id": "7TbhUW532zjR"
      }
    },
    {
      "cell_type": "code",
      "source": [
        "exam_st_date = (11,12,2014)\n",
        "print( \"The examination will start from : %i / %i / %i\"%exam_st_date)"
      ],
      "metadata": {
        "colab": {
          "base_uri": "https://localhost:8080/"
        },
        "id": "A6M3i2Umu6GR",
        "outputId": "c8d82052-8c13-4bd5-8e21-9e8c9d2f8f27"
      },
      "execution_count": null,
      "outputs": [
        {
          "output_type": "stream",
          "name": "stdout",
          "text": [
            "The examination will start from : 11 / 12 / 2014\n"
          ]
        }
      ]
    },
    {
      "cell_type": "markdown",
      "source": [
        "연습문제 10번"
      ],
      "metadata": {
        "id": "Yr2eN2KS20fq"
      }
    },
    {
      "cell_type": "code",
      "source": [
        "a = int(input(\"Input an integer : \"))\n",
        "n1 = int( \"%s\" % a )\n",
        "n2 = int( \"%s%s\" % (a,a) )\n",
        "n3 = int( \"%s%s%s\" % (a,a,a) )\n",
        "print (n1+n2+n3)"
      ],
      "metadata": {
        "colab": {
          "base_uri": "https://localhost:8080/"
        },
        "id": "KwAF_h8Lu_N5",
        "outputId": "e3319c51-ef40-4f0c-dc23-1a3bdef2cc01"
      },
      "execution_count": null,
      "outputs": [
        {
          "output_type": "stream",
          "name": "stdout",
          "text": [
            "Input an integer : 5\n",
            "615\n"
          ]
        }
      ]
    },
    {
      "cell_type": "markdown",
      "source": [
        "연습문제 11번"
      ],
      "metadata": {
        "id": "aEJwnZCl22Cp"
      }
    },
    {
      "cell_type": "code",
      "source": [
        "print(abs.__doc__)"
      ],
      "metadata": {
        "colab": {
          "base_uri": "https://localhost:8080/"
        },
        "id": "P9Iokl7lv52Z",
        "outputId": "45ca1228-1c73-4495-db15-5a072cda4184"
      },
      "execution_count": null,
      "outputs": [
        {
          "output_type": "stream",
          "name": "stdout",
          "text": [
            "Return the absolute value of the argument.\n"
          ]
        }
      ]
    },
    {
      "cell_type": "markdown",
      "source": [
        "연습문제 12번"
      ],
      "metadata": {
        "id": "kPli65Wo23Jp"
      }
    },
    {
      "cell_type": "code",
      "source": [
        "import calendar\n",
        "y = int(input(\"Input the year : \"))\n",
        "m = int(input(\"Input the month : \"))\n",
        "print(calendar.month(y, m))"
      ],
      "metadata": {
        "colab": {
          "base_uri": "https://localhost:8080/"
        },
        "id": "aV5_zX7nwGnB",
        "outputId": "490a1602-ab6c-432e-a2a1-a7b932eb64ee"
      },
      "execution_count": null,
      "outputs": [
        {
          "output_type": "stream",
          "name": "stdout",
          "text": [
            "Input the year : 2022\n",
            "Input the month : 9\n",
            "   September 2022\n",
            "Mo Tu We Th Fr Sa Su\n",
            "          1  2  3  4\n",
            " 5  6  7  8  9 10 11\n",
            "12 13 14 15 16 17 18\n",
            "19 20 21 22 23 24 25\n",
            "26 27 28 29 30\n",
            "\n"
          ]
        }
      ]
    },
    {
      "cell_type": "markdown",
      "source": [
        "연습문제 13번"
      ],
      "metadata": {
        "id": "7cCwzFu125CJ"
      }
    },
    {
      "cell_type": "code",
      "source": [
        "print(\"\"\"\n",
        "a string that you \"don't\" have to escape\n",
        "This\n",
        "is a  ....... multi-line\n",
        "heredoc string --------> example\n",
        "\"\"\")"
      ],
      "metadata": {
        "colab": {
          "base_uri": "https://localhost:8080/"
        },
        "id": "iw6jAFgDwV05",
        "outputId": "6fff3791-fe68-4e47-f61b-cd8bcd50ab8f"
      },
      "execution_count": null,
      "outputs": [
        {
          "output_type": "stream",
          "name": "stdout",
          "text": [
            "\n",
            "a string that you \"don't\" have to escape\n",
            "This\n",
            "is a  ....... multi-line\n",
            "heredoc string --------> example\n",
            "\n"
          ]
        }
      ]
    },
    {
      "cell_type": "markdown",
      "source": [
        "연습문제 14번~30번"
      ],
      "metadata": {
        "id": "DN-nnQtS27mJ"
      }
    },
    {
      "cell_type": "code",
      "source": [
        "from datetime import date\n",
        "f_date = date(2014, 7, 2)\n",
        "l_date = date(2014, 7, 11)\n",
        "delta = l_date - f_date\n",
        "print(delta.days)"
      ],
      "metadata": {
        "colab": {
          "base_uri": "https://localhost:8080/"
        },
        "id": "2NMlJlLawhEx",
        "outputId": "baab58b6-561a-4dc1-faf2-3d01eeea207b"
      },
      "execution_count": null,
      "outputs": [
        {
          "output_type": "stream",
          "name": "stdout",
          "text": [
            "9\n"
          ]
        }
      ]
    },
    {
      "cell_type": "code",
      "source": [
        "pi = 3.1415926535897931\n",
        "r= 6.0\n",
        "V= 4.0/3.0*pi* r**3\n",
        "print('The volume of the sphere is: ',V)"
      ],
      "metadata": {
        "colab": {
          "base_uri": "https://localhost:8080/"
        },
        "id": "JNaxn_w2wqKR",
        "outputId": "37e89404-4460-4ae2-d9a6-122c8552df22"
      },
      "execution_count": null,
      "outputs": [
        {
          "output_type": "stream",
          "name": "stdout",
          "text": [
            "The volume of the sphere is:  904.7786842338603\n"
          ]
        }
      ]
    },
    {
      "cell_type": "code",
      "source": [
        "def difference(n):\n",
        "    if n <= 17:\n",
        "        return 17 - n\n",
        "    else:\n",
        "        return (n - 17) * 2 \n",
        "\n",
        "print(difference(22))\n",
        "print(difference(14))"
      ],
      "metadata": {
        "colab": {
          "base_uri": "https://localhost:8080/"
        },
        "id": "0bBjg4f4w3rh",
        "outputId": "90c24192-f3b3-490a-e856-e553477cd77f"
      },
      "execution_count": null,
      "outputs": [
        {
          "output_type": "stream",
          "name": "stdout",
          "text": [
            "10\n",
            "3\n"
          ]
        }
      ]
    },
    {
      "cell_type": "code",
      "source": [
        "def near_thousand(n):\n",
        "      return ((abs(1000 - n) <= 100) or (abs(2000 - n) <= 100))\n",
        "print(near_thousand(1000))\n",
        "print(near_thousand(900))\n",
        "print(near_thousand(800))   \n",
        "print(near_thousand(2200))"
      ],
      "metadata": {
        "colab": {
          "base_uri": "https://localhost:8080/"
        },
        "id": "9odZ1v9Jw_LA",
        "outputId": "7387be81-86ac-48d6-dbf1-332a99200f57"
      },
      "execution_count": null,
      "outputs": [
        {
          "output_type": "stream",
          "name": "stdout",
          "text": [
            "True\n",
            "True\n",
            "False\n",
            "False\n"
          ]
        }
      ]
    },
    {
      "cell_type": "code",
      "source": [
        "def sum_thrice(x, y, z):\n",
        "\n",
        "     sum = x + y + z\n",
        "  \n",
        "     if x == y == z:\n",
        "      sum = sum * 3\n",
        "     return sum\n",
        "\n",
        "print(sum_thrice(1, 2, 3))\n",
        "print(sum_thrice(3, 3, 3))"
      ],
      "metadata": {
        "colab": {
          "base_uri": "https://localhost:8080/"
        },
        "id": "UPTOee5kxWwT",
        "outputId": "542964be-ace4-4b37-bfcb-9b4de3c2c0ac"
      },
      "execution_count": null,
      "outputs": [
        {
          "output_type": "stream",
          "name": "stdout",
          "text": [
            "6\n",
            "27\n"
          ]
        }
      ]
    },
    {
      "cell_type": "code",
      "source": [
        "def new_string(str):\n",
        "  if len(str) >= 2 and str[:2] == \"Is\":\n",
        "    return str\n",
        "  return \"Is\" + str\n",
        "\n",
        "print(new_string(\"Array\"))\n",
        "print(new_string(\"IsEmpty\"))"
      ],
      "metadata": {
        "colab": {
          "base_uri": "https://localhost:8080/"
        },
        "id": "4c76NqDxxhUi",
        "outputId": "122ecdf0-874e-4b8f-d7c5-55460ed270d6"
      },
      "execution_count": null,
      "outputs": [
        {
          "output_type": "stream",
          "name": "stdout",
          "text": [
            "IsArray\n",
            "IsEmpty\n"
          ]
        }
      ]
    },
    {
      "cell_type": "code",
      "source": [
        "def larger_string(str, n):\n",
        "   result = \"\"\n",
        "   for i in range(n):\n",
        "      result = result + str\n",
        "   return result\n",
        "\n",
        "print(larger_string('abc', 2))\n",
        "print(larger_string('.py', 3))"
      ],
      "metadata": {
        "colab": {
          "base_uri": "https://localhost:8080/"
        },
        "id": "M0gJH3TQzGhD",
        "outputId": "bcc922fb-995c-4517-86fc-9c520885aaef"
      },
      "execution_count": null,
      "outputs": [
        {
          "output_type": "stream",
          "name": "stdout",
          "text": [
            "abcabc\n",
            ".py.py.py\n"
          ]
        }
      ]
    },
    {
      "cell_type": "code",
      "source": [
        "num = int(input(\"Enter a number: \"))\n",
        "mod = num % 2\n",
        "if mod > 0:\n",
        "    print(\"This is an odd number.\")\n",
        "else:\n",
        "    print(\"This is an even number.\")"
      ],
      "metadata": {
        "colab": {
          "base_uri": "https://localhost:8080/"
        },
        "id": "Rka0UkpBzPtg",
        "outputId": "994d33a2-d610-4abb-8467-845017f2d522"
      },
      "execution_count": null,
      "outputs": [
        {
          "output_type": "stream",
          "name": "stdout",
          "text": [
            "Enter a number: 5\n",
            "This is an odd number.\n"
          ]
        }
      ]
    },
    {
      "cell_type": "code",
      "source": [
        "def list_count_4(nums):\n",
        "  count = 0  \n",
        "  for num in nums:\n",
        "    if num == 4:\n",
        "      count = count + 1\n",
        "\n",
        "  return count\n",
        "\n",
        "print(list_count_4([1, 4, 6, 7, 4]))\n",
        "print(list_count_4([1, 4, 6, 4, 7, 4]))"
      ],
      "metadata": {
        "colab": {
          "base_uri": "https://localhost:8080/"
        },
        "id": "mLu548YUzV04",
        "outputId": "022ede80-262b-4ab0-c110-6dd3fa8c3260"
      },
      "execution_count": null,
      "outputs": [
        {
          "output_type": "stream",
          "name": "stdout",
          "text": [
            "2\n",
            "3\n"
          ]
        }
      ]
    },
    {
      "cell_type": "code",
      "source": [
        "def substring_copy(str, n):\n",
        "  flen = 2\n",
        "  if flen > len(str):\n",
        "    flen = len(str)\n",
        "  substr = str[:flen]\n",
        "  \n",
        "  result = \"\"\n",
        "  for i in range(n):\n",
        "    result = result + substr\n",
        "  return result\n",
        "print(substring_copy('abcdef', 2))\n",
        "print(substring_copy('p', 3));"
      ],
      "metadata": {
        "colab": {
          "base_uri": "https://localhost:8080/"
        },
        "id": "AOQDUlmFzhKg",
        "outputId": "da862c11-f6d6-4654-d146-0decebbd43f5"
      },
      "execution_count": null,
      "outputs": [
        {
          "output_type": "stream",
          "name": "stdout",
          "text": [
            "abab\n",
            "ppp\n"
          ]
        }
      ]
    },
    {
      "cell_type": "code",
      "source": [
        "def is_vowel(char):\n",
        "    all_vowels = 'aeiou'\n",
        "    return char in all_vowels\n",
        "print(is_vowel('c'))\n",
        "print(is_vowel('e'))"
      ],
      "metadata": {
        "colab": {
          "base_uri": "https://localhost:8080/"
        },
        "id": "8c0vBGGJzxH1",
        "outputId": "e93f3d59-7bd3-4659-e98e-04aa64812158"
      },
      "execution_count": null,
      "outputs": [
        {
          "output_type": "stream",
          "name": "stdout",
          "text": [
            "False\n",
            "True\n"
          ]
        }
      ]
    },
    {
      "cell_type": "code",
      "source": [
        "def histogram( items ):\n",
        "    for n in items:\n",
        "        output = ''\n",
        "        times = n\n",
        "        while( times > 0 ):\n",
        "          output += '*'\n",
        "          times = times - 1\n",
        "        print(output)\n",
        "\n",
        "histogram([2, 3, 6, 5])"
      ],
      "metadata": {
        "colab": {
          "base_uri": "https://localhost:8080/"
        },
        "id": "2yN75h6wzydq",
        "outputId": "e5fbd610-7026-4afd-d733-736d8398cbe9"
      },
      "execution_count": null,
      "outputs": [
        {
          "output_type": "stream",
          "name": "stdout",
          "text": [
            "**\n",
            "***\n",
            "******\n",
            "*****\n"
          ]
        }
      ]
    },
    {
      "cell_type": "code",
      "source": [
        "def concatenate_list_data(list):\n",
        "    result= ''\n",
        "    for element in list:\n",
        "        result += str(element)\n",
        "    return result\n",
        "\n",
        "print(concatenate_list_data([1, 5, 12, 2]))\n"
      ],
      "metadata": {
        "colab": {
          "base_uri": "https://localhost:8080/"
        },
        "id": "mqZsKXoyzyqh",
        "outputId": "6ab73b79-2d2e-4ced-b31e-73b48db839f2"
      },
      "execution_count": null,
      "outputs": [
        {
          "output_type": "stream",
          "name": "stdout",
          "text": [
            "15122\n"
          ]
        }
      ]
    },
    {
      "cell_type": "code",
      "source": [
        "numbers = [    \n",
        "    386, 462, 47, 418, 907, 344, 236, 375, 823, 566, 597, 978, 328, 615, 953, 345, \n",
        "    399, 162, 758, 219, 918, 237, 412, 566, 826, 248, 866, 950, 626, 949, 687, 217, \n",
        "    815, 67, 104, 58, 512, 24, 892, 894, 767, 553, 81, 379, 843, 831, 445, 742, 717, \n",
        "    958,743, 527\n",
        "    ]\n",
        "\n",
        "for x in numbers:\n",
        "    if x == 237:\n",
        "        print(x)\n",
        "        break;\n",
        "    elif x % 2 == 0:\n",
        "        print(x)"
      ],
      "metadata": {
        "colab": {
          "base_uri": "https://localhost:8080/"
        },
        "id": "qvZi2JL10MLo",
        "outputId": "5556c930-ff74-4575-92c6-dda9da710986"
      },
      "execution_count": null,
      "outputs": [
        {
          "output_type": "stream",
          "name": "stdout",
          "text": [
            "386\n",
            "462\n",
            "418\n",
            "344\n",
            "236\n",
            "566\n",
            "978\n",
            "328\n",
            "162\n",
            "758\n",
            "918\n",
            "237\n"
          ]
        }
      ]
    },
    {
      "cell_type": "code",
      "source": [
        "color_list_1 = set([\"White\", \"Black\", \"Red\"])\n",
        "color_list_2 = set([\"Red\", \"Green\"])\n",
        "print(\"Original set elements:\")\n",
        "print(color_list_1)\n",
        "print(color_list_2)\n",
        "print(\"\\nDifferenct of color_list_1 and color_list_2:\")\n",
        "print(color_list_1.difference(color_list_2))\n",
        "print(\"\\nDifferenct of color_list_2 and color_list_1:\")\n",
        "print(color_list_2.difference(color_list_1))"
      ],
      "metadata": {
        "colab": {
          "base_uri": "https://localhost:8080/"
        },
        "id": "CMw1qfM10KtR",
        "outputId": "8d77f302-178c-4768-ea3b-2c8b0e0fdda3"
      },
      "execution_count": null,
      "outputs": [
        {
          "output_type": "stream",
          "name": "stdout",
          "text": [
            "Original set elements:\n",
            "{'Red', 'Black', 'White'}\n",
            "{'Green', 'Red'}\n",
            "\n",
            "Differenct of color_list_1 and color_list_2:\n",
            "{'White', 'Black'}\n",
            "\n",
            "Differenct of color_list_2 and color_list_1:\n",
            "{'Green'}\n"
          ]
        }
      ]
    },
    {
      "cell_type": "code",
      "source": [
        "b = int(input(\"Input the base : \"))\n",
        "h = int(input(\"Input the height : \"))\n",
        "\n",
        "area = b*h/2\n",
        "\n",
        "print(\"area = \", area)"
      ],
      "metadata": {
        "colab": {
          "base_uri": "https://localhost:8080/"
        },
        "id": "u2Tsclsm0V7Q",
        "outputId": "6f18bc75-e59c-40a7-ecce-f3c9b284327c"
      },
      "execution_count": null,
      "outputs": [
        {
          "output_type": "stream",
          "name": "stdout",
          "text": [
            "Input the base : 20\n",
            "Input the height : 40\n",
            "area =  400.0\n"
          ]
        }
      ]
    }
  ]
}