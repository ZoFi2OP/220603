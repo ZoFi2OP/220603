{
  "nbformat": 4,
  "nbformat_minor": 0,
  "metadata": {
    "colab": {
      "provenance": [],
      "name": "9-26(2200261 박현민).ipynb",
      "authorship_tag": "ABX9TyNlOL/kmrU4PLyR+FgPvghE",
      "include_colab_link": true
    },
    "kernelspec": {
      "name": "python3",
      "display_name": "Python 3"
    },
    "language_info": {
      "name": "python"
    }
  },
  "cells": [
    {
      "cell_type": "markdown",
      "metadata": {
        "id": "view-in-github",
        "colab_type": "text"
      },
      "source": [
        "<a href=\"https://colab.research.google.com/github/ZoFi2OP/220603/blob/main/9_26(2200261_%EB%B0%95%ED%98%84%EB%AF%BC).ipynb\" target=\"_parent\"><img src=\"https://colab.research.google.com/assets/colab-badge.svg\" alt=\"Open In Colab\"/></a>"
      ]
    },
    {
      "cell_type": "code",
      "source": [
        "fruits = ['apple', 'banana', 'kiwi', 'orange', 'peach']\n",
        "\n",
        "for x in fruits:\n",
        "\tprint(x)\n"
      ],
      "metadata": {
        "colab": {
          "base_uri": "https://localhost:8080/"
        },
        "id": "zNQxE2sG1NVE",
        "outputId": "6170f845-2e9a-449d-8219-11f0be097b1c"
      },
      "execution_count": null,
      "outputs": [
        {
          "output_type": "stream",
          "name": "stdout",
          "text": [
            "apple\n",
            "banana\n",
            "kiwi\n",
            "orange\n",
            "peach\n"
          ]
        }
      ]
    },
    {
      "cell_type": "code",
      "source": [
        "fruits = ['apple', 'banana', 'kiwi', 'orange', 'peach', 'banana', 'banana']\n",
        "\n",
        "n=0\n",
        "for x in fruits:\n",
        "  if(x=='banana'):\n",
        "    n += 1\n",
        "\n",
        "print('There are', n, 'bananas.')"
      ],
      "metadata": {
        "colab": {
          "base_uri": "https://localhost:8080/"
        },
        "id": "qDvJTrfX0dQp",
        "outputId": "5cbbb245-6630-4f7f-9676-3012f8c83e67"
      },
      "execution_count": null,
      "outputs": [
        {
          "output_type": "stream",
          "name": "stdout",
          "text": [
            "There are 3 bananas.\n"
          ]
        }
      ]
    },
    {
      "cell_type": "code",
      "source": [
        "def Convert(string):\n",
        "\n",
        "    li = list(string.split(\" \"))\n",
        "\n",
        "    return li\n",
        "\n",
        " \n",
        "\n",
        "xmas = \"Scrooge never painted out Old Marley's name. There it stood, years afterwards, above the warehouse door: Scrooge and Marley. The firm was known as Scrooge and Marley. Sometimes people new to the business called Scrooge Scrooge, and sometimes Marley, but he answered to both names. It was all the same to him.\"\n",
        "\n",
        "print(\"Scrooge 개수:\", xmas.count(\"Scrooge\"))\n"
      ],
      "metadata": {
        "colab": {
          "base_uri": "https://localhost:8080/"
        },
        "id": "08ktlIcB7hsv",
        "outputId": "9c14c170-18a0-4c85-dfcb-cc782f28221d"
      },
      "execution_count": null,
      "outputs": [
        {
          "output_type": "stream",
          "name": "stdout",
          "text": [
            "Scrooge 개수: 5\n"
          ]
        }
      ]
    }
  ]
}